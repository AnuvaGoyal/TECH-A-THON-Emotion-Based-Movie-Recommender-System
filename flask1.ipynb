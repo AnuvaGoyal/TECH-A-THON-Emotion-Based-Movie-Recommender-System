{
 "cells": [
  {
   "cell_type": "code",
   "execution_count": 106,
   "metadata": {},
   "outputs": [
    {
     "name": "stdout",
     "output_type": "stream",
     "text": [
      "Requirement already satisfied: bs4 in c:\\users\\this pc\\anaconda3\\lib\\site-packages (0.0.1)\n",
      "Requirement already satisfied: beautifulsoup4 in c:\\users\\this pc\\anaconda3\\lib\\site-packages (from bs4) (4.9.3)\n",
      "Requirement already satisfied: soupsieve>1.2; python_version >= \"3.0\" in c:\\users\\this pc\\anaconda3\\lib\\site-packages (from beautifulsoup4->bs4) (2.0.1)\n"
     ]
    }
   ],
   "source": [
    "! pip install bs4"
   ]
  },
  {
   "cell_type": "code",
   "execution_count": 107,
   "metadata": {},
   "outputs": [],
   "source": [
    "from flask import Flask, request, jsonify, render_template\r\n",
    "import random\r\n",
    "from tensorflow.keras.models import load_model\r\n",
    "import numpy as np\r\n",
    "import librosa\r\n",
    "import pandas as pd\r\n",
    "from sklearn.preprocessing import OneHotEncoder\r\n",
    "from bs4 import BeautifulSoup as SOUP\r\n",
    "import re\r\n",
    "import requests as HTTP"
   ]
  },
  {
   "cell_type": "code",
   "execution_count": 108,
   "metadata": {},
   "outputs": [],
   "source": [
    "app = Flask(__name__, template_folder='template', static_folder='static')\r\n",
    "model=load_model(r'C:\\Users\\This PC\\Downloads\\prototype\\model.h5')"
   ]
  },
  {
   "cell_type": "code",
   "execution_count": 109,
   "metadata": {},
   "outputs": [],
   "source": [
    "@app.route('/')\r\n",
    "def home():\r\n",
    "    return render_template('prototype.html')"
   ]
  },
  {
   "cell_type": "code",
   "execution_count": 110,
   "metadata": {},
   "outputs": [],
   "source": [
    "@app.route('/predict_',methods=['POST'])\r\n",
    "def predict_():\r\n",
    "\r\n",
    "    # get file from POST request and save it\r\n",
    "    audio_file = request.files[\"file\"]\r\n",
    "    file_name = str(random.randint(0, 100000))\r\n",
    "    audio_file.save(file_name)\r\n",
    "\r\n",
    "    Features = pd.read_csv(r'C:\\Users\\This PC\\Downloads\\prototype\\features.csv')\r\n",
    "    Y = Features['labels'].values\r\n",
    "    encoder = OneHotEncoder()\r\n",
    "    Y = encoder.fit_transform(np.array(Y).reshape(-1,1)).toarray()\r\n",
    "\r\n",
    "    X, sample_rate = librosa.load(file_name, res_type='kaiser_fast',duration=2.5,sr=22050*2,offset=0.5)\r\n",
    "    sample_rate = np.array(sample_rate)\r\n",
    "    mfccs = np.mean(librosa.feature.mfcc(y=X, sr=sample_rate, n_mfcc=13),axis=0)\r\n",
    "    featurelive = mfccs\r\n",
    "    livedf2 = featurelive\r\n",
    "    livedf2= pd.DataFrame(data=livedf2)\r\n",
    "    livedf2 = livedf2.stack().to_frame().T\r\n",
    "    twodim= np.expand_dims(livedf2, axis=2)\r\n",
    "\r\n",
    "\r\n",
    "\r\n",
    "    prediction = model.predict(twodim)\r\n",
    "    livepredictions = (encoder.inverse_transform((prediction)))\r\n",
    "\r\n",
    "\r\n",
    "    liveprediction=livepredictions.tolist()\r\n",
    "    string_version = \" \".join(str(x) for x in liveprediction)\r\n",
    "    print(string_version)\r\n",
    "    emotion=string_version.split(\"'\")\r\n",
    "    emotion=emotion[1].split(\"_\")\r\n",
    "    gender=emotion[0]\r\n",
    "    emotion=emotion[1]\r\n",
    "\r\n",
    "\r\n",
    "    male_genre=[\"https://www.imdb.com/search/title/?title_type=feature,tv_movie,tv_series,tv_episode,tv_special,tv_miniseries,documentary,short,tv_short&release_date=2016-01-01,&user_rating=7.5,10.0&genres=history,war&colors=color\",\r\n",
    "           \"https://www.imdb.com/search/title/?title_type=feature,tv_movie,tv_series,tv_episode,tv_special,tv_miniseries,documentary,short,tv_short&release_date=2016-01-01,&user_rating=7.5,10.0&genres=adventure,mystery&colors=color\",\r\n",
    "           \"https://www.imdb.com/search/title/?title_type=feature,tv_movie,tv_series,tv_episode,tv_special,tv_miniseries,documentary,short,tv_short&release_date=2016-01-01,&user_rating=7.5,10.0&genres=drama&colors=color\",\r\n",
    "           \"https://www.imdb.com/search/title/?title_type=feature,tv_movie,tv_series,tv_episode,tv_special,tv_miniseries,documentary,short,tv_short&release_date=2016-01-01,&user_rating=7.5,10.0&genres=biography,documentary&colors=color\",\r\n",
    "           \"https://www.imdb.com/search/title/?title_type=feature,tv_movie,tv_series,tv_episode,tv_special,tv_miniseries,documentary,short,tv_short&release_date=2016-01-01,&user_rating=7.5,10.0&genres=action,comedy,crime&colors=color\",\r\n",
    "           \"https://www.imdb.com/search/title/?title_type=feature,tv_movie,tv_series,tv_episode,tv_special,tv_miniseries,documentary,short,tv_short&release_date=2016-01-01,&user_rating=7.5,10.0&genres=action,thriller&colors=color\",\r\n",
    "           \"https://www.imdb.com/search/title/?title_type=feature,tv_movie,tv_series,tv_episode,tv_special,tv_miniseries,documentary,short,tv_short&release_date=2016-01-01,&user_rating=7.5,10.0&genres=family&colors=color\",\r\n",
    "           \"https://www.imdb.com/search/title/?title_type=feature,tv_movie,tv_series,tv_episode,tv_special,tv_miniseries,documentary,short,tv_short&release_date=2016-01-01,&user_rating=7.5,10.0&genres=horror&colors=color\"]\r\n",
    "\r\n",
    "    female_genre=[\"https://www.imdb.com/search/title/?title_type=feature,tv_movie,tv_series,tv_episode,tv_special,tv_miniseries,documentary,short,tv_short&release_date=2016-01-01,&user_rating=7.5,10.0&genres=adventure&colors=color\",\r\n",
    "             \"https://www.imdb.com/search/title/?title_type=feature,tv_movie,tv_series,tv_episode,tv_special,tv_miniseries,documentary,short,tv_short&release_date=2016-01-01,&user_rating=7.5,10.0&genres=adventure,comedy,romance&colors=color\",\r\n",
    "             \"https://www.imdb.com/search/title/?title_type=feature,tv_movie,tv_series,tv_episode,tv_special,tv_miniseries,documentary,short,tv_short&release_date=2016-01-01,&user_rating=7.5,10.0&genres=drama,fantasy&colors=color\",\r\n",
    "             \"https://www.imdb.com/search/title/?title_type=feature,tv_movie,tv_series,tv_episode,tv_special,tv_miniseries,documentary,short,tv_short&release_date=2016-01-01,&user_rating=7.5,10.0&genres=music,musical&colors=color\",\r\n",
    "             \"https://www.imdb.com/search/title/?title_type=feature,tv_movie,tv_series,tv_episode,tv_special,tv_miniseries,documentary,short,tv_short&release_date=2016-01-01,&user_rating=7.5,10.0&genres=action,comedy,crime&colors=color\",\r\n",
    "             \"https://www.imdb.com/search/title/?title_type=feature,tv_movie,tv_series,tv_episode,tv_special,tv_miniseries,documentary,short,tv_short&release_date=2016-01-01,&user_rating=7.5,10.0&genres=action,thriller&colors=color\",\r\n",
    "             \"https://www.imdb.com/search/title/?title_type=feature,tv_movie,tv_series,tv_episode,tv_special,tv_miniseries,documentary,short,tv_short&release_date=2016-01-01,&user_rating=7.5,10.0&genres=family,game-show&colors=color\",\r\n",
    "             \"https://www.imdb.com/search/title/?title_type=feature,tv_movie,tv_series,tv_episode,tv_special,tv_miniseries,documentary,short,tv_short&release_date=2016-01-01,&user_rating=7.5,10.0&genres=horror&colors=color\"]\r\n",
    "    \r\n",
    "\r\n",
    "    if(gender == \"male\"):    \r\n",
    "         # IMDb Url for movie against emotion Neutral\r\n",
    "         if(emotion == \"neutral\"):\r\n",
    "             urlhere = male_genre[0]\r\n",
    "  \r\n",
    "         # IMDb Url for movie against emotion Happy\r\n",
    "         elif(emotion == \"happy\"):\r\n",
    "             urlhere = male_genre[1]\r\n",
    "  \r\n",
    "         # IMDb Url for movie against emotion Sad\r\n",
    "         elif(emotion == \"sad\"):\r\n",
    "             urlhere = male_genre[2]\r\n",
    "  \r\n",
    "         # IMDb Url for movie against emotion Calm\r\n",
    "         elif(emotion == \"calm\"):\r\n",
    "             urlhere = male_genre[3]\r\n",
    "  \r\n",
    "         # IMDb Url for movie against emotion Surprised\r\n",
    "         elif(emotion == \"surprised\"):\r\n",
    "             urlhere = male_genre[4]\r\n",
    "\r\n",
    "         # IMDb Url for movie against emotion Angry\r\n",
    "         elif(emotion == \"angry\"):\r\n",
    "             urlhere = male_genre[5]\r\n",
    "\r\n",
    "         # IMDb Url for  movie against emotion Fearful\r\n",
    "         elif(emotion == \"fear\"):\r\n",
    "             urlhere = male_genre[6]\r\n",
    "\r\n",
    "         # IMDb Url for movie against emotion Disgust\r\n",
    "         elif(emotion == \"disgust\"):\r\n",
    "             urlhere = male_genre[7]\r\n",
    "        \r\n",
    "    elif(gender==\"female\"):\r\n",
    "         if(emotion == \"neutral\"):\r\n",
    "             urlhere = female_genre[0]\r\n",
    "  \r\n",
    "         # IMDb Url for movie against emotion Happy\r\n",
    "         elif(emotion == \"happy\"):\r\n",
    "             urlhere = female_genre[1]\r\n",
    "  \r\n",
    "         # IMDb Url for movie against emotion Sad\r\n",
    "         elif(emotion == \"sad\"):\r\n",
    "             urlhere = female_genre[2]\r\n",
    "  \r\n",
    "         # IMDb Url for movie against emotion Calm\r\n",
    "         elif(emotion == \"calm\"):\r\n",
    "             urlhere = female_genre[3]\r\n",
    "  \r\n",
    "         # IMDb Url for movie against emotion Surprised\r\n",
    "         elif(emotion == \"surprised\"):\r\n",
    "             urlhere = female_genre[4]\r\n",
    "\r\n",
    "         # IMDb Url for movie against emotion Angry\r\n",
    "         elif(emotion == \"angry\"):\r\n",
    "             urlhere = female_genre[5]\r\n",
    "\r\n",
    "         # IMDb Url for movie against emotion Fearful\r\n",
    "         elif(emotion == \"fear\"):\r\n",
    "             urlhere = female_genre[6]\r\n",
    "\r\n",
    "         # IMDb Url for movie against emotion Disgust\r\n",
    "         elif(emotion == \"disgust\"):\r\n",
    "             urlhere = female_genre[7]\r\n",
    "        \r\n",
    "\r\n",
    "    response = HTTP.get(urlhere)\r\n",
    "    data = response.text\r\n",
    "    soup = SOUP(data, \"lxml\")\r\n",
    "\r\n",
    "\r\n",
    "    vbLf='\\n'\r\n",
    "    TITLES = []\r\n",
    "    titles = soup.find_all('h3')\r\n",
    "    for t in titles:\r\n",
    "      TITLES.append(t.text[4:].replace(vbLf,\"\"))   \r\n",
    "\r\n",
    "    URL_list = []\r\n",
    "    for item in soup.find_all(attrs={'class':'lister-item-header'}):\r\n",
    "          for link in item.find_all('a',href=True):\r\n",
    "             href=link.get('href')\r\n",
    "             URL_list.append(\"https://www.imdb.com/\"+href+\"?ref_=adv_li_tt\")  \r\n",
    "\r\n",
    "\r\n",
    "\r\n",
    "    RATINGS = []\r\n",
    "    ratings =soup.find_all(\"div\",{'class':\"inline-block ratings-imdb-rating\"})\r\n",
    "    for r in ratings:\r\n",
    "          RATINGS.append(r.text.replace(vbLf,\"\"))\r\n",
    "\r\n",
    "    # created the dataframe to store the scrapped information\r\n",
    "    data = pd.DataFrame(zip(TITLES, RATINGS, URL_list), columns = [\"Title\", \"Ratings\", \"URL\"])              \r\n",
    "    \r\n",
    "    return render_template('prototype.html',column_names=data.columns.values, row_data=list(data.values.tolist()), zip=zip)"
   ]
  },
  {
   "cell_type": "code",
   "execution_count": 111,
   "metadata": {},
   "outputs": [],
   "source": [
    "@app.route('/results',methods=['POST'])\r\n",
    "def results():\r\n",
    "    data = request.get_json(force=True)\r\n",
    "    prediction = model.predict(data.values())\r\n",
    "    \r\n",
    "    return jsonify(prediction)"
   ]
  },
  {
   "cell_type": "code",
   "execution_count": 112,
   "metadata": {},
   "outputs": [
    {
     "name": "stdout",
     "output_type": "stream",
     "text": [
      " * Serving Flask app \"__main__\" (lazy loading)\n",
      " * Environment: production\n",
      "   WARNING: This is a development server. Do not use it in a production deployment.\n",
      "   Use a production WSGI server instead.\n",
      " * Debug mode: on\n"
     ]
    },
    {
     "name": "stderr",
     "output_type": "stream",
     "text": [
      " * Running on http://127.0.0.1:5000/ (Press CTRL+C to quit)\n",
      "127.0.0.1 - - [06/Oct/2021 18:20:08] \"\u001b[37mGET / HTTP/1.1\u001b[0m\" 200 -\n"
     ]
    },
    {
     "name": "stdout",
     "output_type": "stream",
     "text": [
      "WARNING:tensorflow:Model was constructed with shape (None, 20, 1) for input KerasTensor(type_spec=TensorSpec(shape=(None, 20, 1), dtype=tf.float32, name='conv1d_input'), name='conv1d_input', description=\"created by layer 'conv1d_input'\"), but it was called on an input with incompatible shape (None, 216, 1).\n",
      "['female_sad']\n"
     ]
    },
    {
     "name": "stderr",
     "output_type": "stream",
     "text": [
      "127.0.0.1 - - [06/Oct/2021 18:20:47] \"\u001b[37mPOST /predict_ HTTP/1.1\u001b[0m\" 200 -\n"
     ]
    }
   ],
   "source": [
    "if __name__ == \"__main__\":\r\n",
    "    app.run(debug=True,use_reloader=False)"
   ]
  }
 ],
 "metadata": {
  "kernelspec": {
   "display_name": "Python 3.8.5 64-bit ('base': conda)",
   "name": "python385jvsc74a57bd075d5fa5647ed718dff6db6e19cb5826cae172c65e0d9788c078b693ea2246e0d"
  },
  "language_info": {
   "codemirror_mode": {
    "name": "ipython",
    "version": 3
   },
   "file_extension": ".py",
   "mimetype": "text/x-python",
   "name": "python",
   "nbconvert_exporter": "python",
   "pygments_lexer": "ipython3",
   "version": "3.8.5"
  },
  "metadata": {
   "interpreter": {
    "hash": "75d5fa5647ed718dff6db6e19cb5826cae172c65e0d9788c078b693ea2246e0d"
   }
  },
  "orig_nbformat": 2
 },
 "nbformat": 4,
 "nbformat_minor": 2
}
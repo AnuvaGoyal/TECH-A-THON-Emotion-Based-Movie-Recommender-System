{
 "cells": [
  {
   "cell_type": "code",
   "execution_count": 1,
   "metadata": {},
   "outputs": [],
   "source": [
    "from flask import Flask, request, jsonify, render_template\r\n",
    "import random\r\n",
    "from tensorflow.keras.models import load_model\r\n",
    "import numpy as np\r\n",
    "import librosa\r\n",
    "import pandas as pd\r\n",
    "from sklearn.preprocessing import OneHotEncoder"
   ]
  },
  {
   "cell_type": "code",
   "execution_count": 4,
   "metadata": {},
   "outputs": [],
   "source": [
    "app = Flask(__name__, template_folder='template', static_folder='static')\r\n",
    "model=load_model(r'C:\\Users\\This PC\\Desktop\\EXTRACURRICULAR\\MACHINE LEARNING\\INTERNSHIP\\SER\\model.h5')"
   ]
  },
  {
   "cell_type": "code",
   "execution_count": 5,
   "metadata": {},
   "outputs": [],
   "source": [
    "@app.route('/')\r\n",
    "def home():\r\n",
    "    return render_template('index.html')"
   ]
  },
  {
   "cell_type": "code",
   "execution_count": 6,
   "metadata": {},
   "outputs": [],
   "source": [
    "@app.route('/predict_',methods=['POST'])\r\n",
    "def predict_():\r\n",
    "\r\n",
    "    # get file from POST request and save it\r\n",
    "    audio_file = request.files[\"file\"]\r\n",
    "    file_name = str(random.randint(0, 100000))\r\n",
    "    audio_file.save(file_name)\r\n",
    "\r\n",
    "    Features = pd.read_csv(r'C:\\Users\\This PC\\Downloads\\SER\\features.csv')\r\n",
    "    Y = Features['labels'].values\r\n",
    "    encoder = OneHotEncoder()\r\n",
    "    Y = encoder.fit_transform(np.array(Y).reshape(-1,1)).toarray()\r\n",
    "\r\n",
    "    X, sample_rate = librosa.load(file_name, res_type='kaiser_fast',duration=2.5,sr=22050*2,offset=0.5)\r\n",
    "    sample_rate = np.array(sample_rate)\r\n",
    "    mfccs = np.mean(librosa.feature.mfcc(y=X, sr=sample_rate, n_mfcc=13),axis=0)\r\n",
    "    featurelive = mfccs\r\n",
    "    livedf2 = featurelive\r\n",
    "    livedf2= pd.DataFrame(data=livedf2)\r\n",
    "    livedf2 = livedf2.stack().to_frame().T\r\n",
    "    twodim= np.expand_dims(livedf2, axis=2)\r\n",
    "\r\n",
    "\r\n",
    "\r\n",
    "    prediction = model.predict(twodim)\r\n",
    "    livepredictions = (encoder.inverse_transform((prediction)))\r\n",
    "\r\n",
    "    return render_template('index.html', prediction_text='OUTPUT IS {}'.format(livepredictions))\r\n"
   ]
  },
  {
   "cell_type": "code",
   "execution_count": 7,
   "metadata": {},
   "outputs": [],
   "source": [
    "@app.route('/results',methods=['POST'])\r\n",
    "def results():\r\n",
    "    data = request.get_json(force=True)\r\n",
    "    prediction = model.predict(data.values())\r\n",
    "    \r\n",
    "    return jsonify(prediction)"
   ]
  },
  {
   "cell_type": "code",
   "execution_count": 8,
   "metadata": {},
   "outputs": [
    {
     "name": "stdout",
     "output_type": "stream",
     "text": [
      " * Serving Flask app \"__main__\" (lazy loading)\n",
      " * Environment: production\n",
      "   WARNING: This is a development server. Do not use it in a production deployment.\n",
      "   Use a production WSGI server instead.\n",
      " * Debug mode: on\n"
     ]
    },
    {
     "name": "stderr",
     "output_type": "stream",
     "text": [
      " * Running on http://127.0.0.1:5000/ (Press CTRL+C to quit)\n",
      "127.0.0.1 - - [24/Sep/2021 17:47:52] \"\u001b[37mGET / HTTP/1.1\u001b[0m\" 200 -\n",
      "127.0.0.1 - - [24/Sep/2021 17:47:53] \"\u001b[37mGET /static/css/style.css HTTP/1.1\u001b[0m\" 200 -\n",
      "127.0.0.1 - - [24/Sep/2021 17:47:53] \"\u001b[33mGET /favicon.ico HTTP/1.1\u001b[0m\" 404 -\n"
     ]
    }
   ],
   "source": [
    "if __name__ == \"__main__\":\r\n",
    "    app.run(debug=True,use_reloader=False)"
   ]
  }
 ],
 "metadata": {
  "kernelspec": {
   "display_name": "Python 3.8.5 64-bit ('base': conda)",
   "name": "python385jvsc74a57bd075d5fa5647ed718dff6db6e19cb5826cae172c65e0d9788c078b693ea2246e0d"
  },
  "language_info": {
   "codemirror_mode": {
    "name": "ipython",
    "version": 3
   },
   "file_extension": ".py",
   "mimetype": "text/x-python",
   "name": "python",
   "nbconvert_exporter": "python",
   "pygments_lexer": "ipython3",
   "version": "3.8.5"
  },
  "metadata": {
   "interpreter": {
    "hash": "75d5fa5647ed718dff6db6e19cb5826cae172c65e0d9788c078b693ea2246e0d"
   }
  },
  "orig_nbformat": 2
 },
 "nbformat": 4,
 "nbformat_minor": 2
}